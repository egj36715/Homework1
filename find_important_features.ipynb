{
 "cells": [
  {
   "cell_type": "code",
   "execution_count": 29,
   "metadata": {
    "collapsed": false
   },
   "outputs": [
    {
     "name": "stdout",
     "output_type": "stream",
     "text": [
      "Useful features:\n",
      "1. feature 306 (0.013411)\n",
      "2. feature 117 (0.011097)\n",
      "3. feature 265 (0.008002)\n",
      "4. feature 228 (0.007035)\n",
      "5. feature 1638 (0.006078)\n",
      "6. feature 95 (0.006050)\n",
      "7. feature 1497 (0.005857)\n",
      "8. feature 740 (0.005746)\n",
      "9. feature 877 (0.005639)\n",
      "10. feature 314 (0.005220)\n",
      "11. feature 1667 (0.005106)\n",
      "\n",
      "Useless features:\n",
      "1786. feature 1112 (0.000000)\n",
      "1787. feature 349 (0.000000)\n",
      "1788. feature 1110 (0.000000)\n",
      "1789. feature 350 (0.000000)\n",
      "1790. feature 382 (0.000000)\n",
      "1791. feature 1093 (0.000000)\n",
      "1792. feature 868 (0.000000)\n",
      "1793. feature 1066 (0.000000)\n",
      "1794. feature 1001 (0.000000)\n",
      "1795. feature 981 (0.000000)\n",
      "1796. feature 335 (0.000000)\n",
      "1797. feature 1475 (0.000000)\n",
      "1798. feature 1049 (0.000000)\n",
      "1799. feature 412 (0.000000)\n",
      "1800. feature 449 (0.000000)\n",
      "1801. feature 70 (0.000000)\n",
      "1802. feature 78 (0.000000)\n",
      "1803. feature 458 (0.000000)\n",
      "1804. feature 345 (0.000000)\n"
     ]
    }
   ],
   "source": [
    "import sklearn\n",
    "import pandas as pd\n",
    "import numpy as np\n",
    "\n",
    "\n",
    "from sklearn.ensemble import ExtraTreesClassifier\n",
    "data='Microsoft-Malware-Challenge/Dataset/train/LargeTrain.csv'\n",
    "\n",
    "dataset = pd.read_csv(data)\n",
    "label = dataset.pop('Class')\n",
    "data  = dataset\n",
    "\n",
    "# Build a classification task using 3 informative features\n",
    "X, y = data,label\n",
    "\n",
    "# Build a forest and compute the feature importances\n",
    "forest = ExtraTreesClassifier(n_estimators=250,\n",
    "                              random_state=0)\n",
    "\n",
    "forest.fit(X, y)\n",
    "importances = forest.feature_importances_\n",
    "std = np.std([tree.feature_importances_ for tree in forest.estimators_],\n",
    "             axis=0)\n",
    "indices = np.argsort(importances)[::-1]\n",
    "\n",
    "# Print the feature ranking\n",
    "print(\"Useful features:\")\n",
    "\n",
    "for f in range(X.shape[1]):\n",
    "    if f==11:\n",
    "        print(\"\\nUseless features:\")\n",
    "    if (f<11) or (importances[indices[f]]==0):\n",
    "        print(\"%d. feature %d (%f)\" % (f + 1, indices[f], importances[indices[f]]))\n",
    "\n"
   ]
  },
  {
   "cell_type": "code",
   "execution_count": null,
   "metadata": {
    "collapsed": true
   },
   "outputs": [],
   "source": []
  }
 ],
 "metadata": {
  "kernelspec": {
   "display_name": "Python 3",
   "language": "python",
   "name": "python3"
  },
  "language_info": {
   "codemirror_mode": {
    "name": "ipython",
    "version": 3
   },
   "file_extension": ".py",
   "mimetype": "text/x-python",
   "name": "python",
   "nbconvert_exporter": "python",
   "pygments_lexer": "ipython3",
   "version": "3.6.0"
  }
 },
 "nbformat": 4,
 "nbformat_minor": 2
}
